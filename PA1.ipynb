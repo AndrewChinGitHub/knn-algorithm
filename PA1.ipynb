{
 "cells": [
  {
   "cell_type": "code",
   "execution_count": 3,
   "metadata": {},
   "outputs": [],
   "source": [
    "import pandas as pd\n",
    "import numpy as np\n",
    "import matplotlib as plt\n",
    "from numpy.linalg import norm\n",
    "from scipy import stats\n",
    "import time"
   ]
  },
  {
   "cell_type": "markdown",
   "metadata": {},
   "source": [
    "This K-Nearest Neighbor classifier is implemented to classify images of digits. Given vectors and a corresponding label.The data files are in ASCII text format, and each line of the files contains a feature vector of size 784, followed by its label. The coordinates of the feature vector are separated by spaces."
   ]
  },
  {
   "cell_type": "code",
   "execution_count": 4,
   "metadata": {},
   "outputs": [],
   "source": [
    "#Function to clean the txt files and seperate the labels from the actual vectors\n",
    "def clean_txt(path):\n",
    "    f = open(path,'r')\n",
    "    arr = (f.read()).split(\"\\n\")\n",
    "    arr = arr[:-1]\n",
    "    labels = []\n",
    "    for vector in arr:\n",
    "        labels.append(int(vector[-1]))\n",
    "    vectors = []\n",
    "    for vector in arr:\n",
    "        vectors.append(vector.split(' '))\n",
    "    for i in range(len(vectors)):\n",
    "        vectors[i] = list(map(int,vectors[i][:-1]))\n",
    "    return np.array(vectors),np.array(labels)"
   ]
  },
  {
   "cell_type": "code",
   "execution_count": 5,
   "metadata": {},
   "outputs": [],
   "source": [
    "test_vectors,test_labels = clean_txt(\"pa1test.txt\")\n",
    "train_vectors,train_labels = clean_txt(\"pa1train.txt\")\n",
    "vali_vectors,vali_labels = clean_txt(\"pa1validate.txt\")\n",
    "\n",
    "k_arr = [1,5,9,15]\n",
    "test_k = [3] #Tested on training data and got 0.043 as the error."
   ]
  },
  {
   "cell_type": "markdown",
   "metadata": {},
   "source": [
    "### KNN Algorithm"
   ]
  },
  {
   "cell_type": "code",
   "execution_count": 6,
   "metadata": {},
   "outputs": [],
   "source": [
    "def knn(vectors1, train_labels, vectors2, k):\n",
    "    output_labels = np.array([])\n",
    "    for test_vect in vectors2:\n",
    "        labels = np.array([0]*k)\n",
    "        vect_arr = [1]*k\n",
    "        distances = np.array([np.Inf]*k)\n",
    "        vect_index = 0\n",
    "        for train_vect in vectors1:\n",
    "            dist = norm(test_vect-train_vect)\n",
    "            if dist < distances.max():\n",
    "                index_to_change = np.where(distances == distances.max())[0][0]\n",
    "                distances[index_to_change] = dist\n",
    "                vect_arr[index_to_change] = train_vect\n",
    "                labels[index_to_change] = train_labels[vect_index]\n",
    "            vect_index += 1\n",
    "        output_labels = np.append(output_labels, stats.mode(labels)[0][0])\n",
    "    return output_labels"
   ]
  },
  {
   "cell_type": "markdown",
   "metadata": {},
   "source": [
    "#### Testing k = 3"
   ]
  },
  {
   "cell_type": "code",
   "execution_count": 7,
   "metadata": {},
   "outputs": [],
   "source": [
    "knn_3 = knn(train_vectors,train_labels,train_vectors,3)"
   ]
  },
  {
   "cell_type": "code",
   "execution_count": 8,
   "metadata": {},
   "outputs": [],
   "source": [
    "num_wrong_train = 0\n",
    "for i in range(len(knn_3)):\n",
    "    if knn_3[i] != train_labels[i]:\n",
    "        num_wrong_train +=1"
   ]
  },
  {
   "cell_type": "code",
   "execution_count": 9,
   "metadata": {},
   "outputs": [
    {
     "data": {
      "text/plain": [
       "0.0435"
      ]
     },
     "execution_count": 9,
     "metadata": {},
     "output_type": "execute_result"
    }
   ],
   "source": [
    "num_wrong_train / len(train_vectors)"
   ]
  },
  {
   "cell_type": "code",
   "execution_count": null,
   "metadata": {
    "scrolled": false
   },
   "outputs": [],
   "source": [
    "start1 = time.time()\n",
    "train_error = []\n",
    "vali_error = []\n",
    "for k in k_arr:\n",
    "    knn_k_train = knn(train_vectors, train_labels, train_vectors, k)\n",
    "    knn_k_vali = knn(train_vectors, train_labels, vali_vectors, k)\n",
    "    num_wrong_train = 0\n",
    "    for i in range(len(knn_k_train)):\n",
    "        if knn_k_train[i] != train_labels[i]:\n",
    "            num_wrong_train +=1\n",
    "    num_wrong_vali = 0\n",
    "    for i in range(len(knn_k_vali)):\n",
    "        if knn_k_vali[i] != vali_labels[i]:\n",
    "            num_wrong_vali +=1\n",
    "    train_error.append(num_wrong_train / len(train_vectors))\n",
    "    vali_error.append(num_wrong_vali / len(knn_k_vali))\n",
    "end1 = time.time()"
   ]
  },
  {
   "cell_type": "code",
   "execution_count": null,
   "metadata": {
    "scrolled": true
   },
   "outputs": [],
   "source": [
    "pd.DataFrame({\"Train_Error\":train_error, \"Validation_Error\":vali_error}, index = k_arr)"
   ]
  },
  {
   "cell_type": "markdown",
   "metadata": {},
   "source": [
    "Seems like K = 1 performs the best on the Validation data, as the error is only 0.082"
   ]
  },
  {
   "cell_type": "code",
   "execution_count": null,
   "metadata": {},
   "outputs": [],
   "source": [
    "knn_test = knn(train_vectors,train_labels,test_vectors,1)"
   ]
  },
  {
   "cell_type": "code",
   "execution_count": null,
   "metadata": {},
   "outputs": [],
   "source": [
    "num_wrong_test = 0\n",
    "for i in range(len(knn_test)):\n",
    "    if knn_test[i] != test_labels[i]:\n",
    "        num_wrong_test +=1"
   ]
  },
  {
   "cell_type": "code",
   "execution_count": null,
   "metadata": {},
   "outputs": [],
   "source": [
    "num_wrong_test / len(test_labels)"
   ]
  },
  {
   "cell_type": "markdown",
   "metadata": {},
   "source": [
    "So for K=1, the test error is 0.094."
   ]
  },
  {
   "cell_type": "markdown",
   "metadata": {},
   "source": [
    "Assessing how pre-processing steps affect the accuracy and running-time of a nearest neighbor classification algorithm."
   ]
  },
  {
   "cell_type": "code",
   "execution_count": null,
   "metadata": {
    "scrolled": true
   },
   "outputs": [],
   "source": [
    "file = open(\"projection.txt\",\"r\")\n",
    "file_arr = file.read().split(\"\\n\")[:-1]\n",
    "proj_vectors = []\n",
    "for string in file_arr:\n",
    "    proj_vectors.append(string.split(\" \"))\n",
    "for i in range(len(proj_vectors)):\n",
    "    proj_vectors[i] = list(map(float,proj_vectors[i]))"
   ]
  },
  {
   "cell_type": "code",
   "execution_count": null,
   "metadata": {
    "scrolled": true
   },
   "outputs": [],
   "source": [
    "proj_train_vectors = np.matmul(train_vectors,proj_vectors)\n",
    "proj_test_vectors = np.matmul(test_vectors,proj_vectors)\n",
    "proj_vali_vectors = np.matmul(vali_vectors,proj_vectors)"
   ]
  },
  {
   "cell_type": "code",
   "execution_count": null,
   "metadata": {},
   "outputs": [],
   "source": [
    "knn_proj_3 = knn(proj_train_vectors,train_labels,proj_train_vectors,3)"
   ]
  },
  {
   "cell_type": "code",
   "execution_count": null,
   "metadata": {},
   "outputs": [],
   "source": [
    "num_wrong_proj_train = 0\n",
    "for i in range(len(knn_3)):\n",
    "    if knn_proj_3[i] != train_labels[i]:\n",
    "        num_wrong_proj_train +=1"
   ]
  },
  {
   "cell_type": "code",
   "execution_count": null,
   "metadata": {},
   "outputs": [],
   "source": [
    "error_k3 = num_wrong_proj_train / len(proj_train_vectors)\n",
    "print(\"Error for K=3 is {}\".format(error_k3))"
   ]
  },
  {
   "cell_type": "code",
   "execution_count": null,
   "metadata": {
    "scrolled": true
   },
   "outputs": [],
   "source": [
    "start2 = time.time()\n",
    "proj_train_error = []\n",
    "proj_vali_error = []\n",
    "for k in k_arr:\n",
    "    knn_k_proj_train = knn(proj_train_vectors, train_labels, proj_train_vectors, k)\n",
    "    knn_k_proj_vali = knn(proj_train_vectors, train_labels, proj_vali_vectors, k)\n",
    "    num_wrong_proj_train = 0\n",
    "    for i in range(len(knn_k_proj_train)):\n",
    "        if knn_k_proj_train[i] != train_labels[i]:\n",
    "            num_wrong_proj_train +=1\n",
    "    num_wrong_proj_vali = 0\n",
    "    for i in range(len(knn_k_proj_vali)):\n",
    "        if knn_k_proj_vali[i] != vali_labels[i]:\n",
    "            num_wrong_proj_vali +=1\n",
    "    proj_train_error.append(num_wrong_proj_train / len(proj_train_vectors))\n",
    "    proj_vali_error.append(num_wrong_proj_vali / len(knn_k_proj_vali))\n",
    "end2 = time.time()"
   ]
  },
  {
   "cell_type": "code",
   "execution_count": null,
   "metadata": {},
   "outputs": [],
   "source": [
    "pd.DataFrame({\"Projected_Train_Error\":proj_train_error, \"Projected_Validation_Error\":proj_vali_error}, index = k_arr)"
   ]
  },
  {
   "cell_type": "code",
   "execution_count": null,
   "metadata": {},
   "outputs": [],
   "source": [
    "proj_knn_test = knn(proj_train_vectors,train_labels,proj_test_vectors,15)\n",
    "num_wrong_proj_test = 0\n",
    "for i in range(len(proj_knn_test)):\n",
    "    if proj_knn_test[i] != test_labels[i]:\n",
    "        num_wrong_proj_test +=1\n",
    "print(\"Error for K=15 is {}\".format(num_wrong_proj_test / len(test_labels)))"
   ]
  },
  {
   "cell_type": "code",
   "execution_count": null,
   "metadata": {},
   "outputs": [],
   "source": [
    "print(\"Time for part 1: {}\".format(end1-start1))\n",
    "print(\"Time for part 2: {}\".format(end2-start2))"
   ]
  },
  {
   "cell_type": "markdown",
   "metadata": {},
   "source": [
    "After projection, the classifier accuarcy is worse, but it is somewhat faster since we are projecting into a lower dimension as opposed to the higher dimensions earlier. "
   ]
  },
  {
   "cell_type": "code",
   "execution_count": null,
   "metadata": {},
   "outputs": [],
   "source": []
  }
 ],
 "metadata": {
  "kernelspec": {
   "display_name": "Python 3",
   "language": "python",
   "name": "python3"
  },
  "language_info": {
   "codemirror_mode": {
    "name": "ipython",
    "version": 3
   },
   "file_extension": ".py",
   "mimetype": "text/x-python",
   "name": "python",
   "nbconvert_exporter": "python",
   "pygments_lexer": "ipython3",
   "version": "3.8.3"
  }
 },
 "nbformat": 4,
 "nbformat_minor": 4
}
